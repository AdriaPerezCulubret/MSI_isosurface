{
 "cells": [
  {
   "cell_type": "code",
   "execution_count": 1,
   "metadata": {
    "collapsed": false
   },
   "outputs": [
    {
     "name": "stdout",
     "output_type": "stream",
     "text": [
      "Populating the interactive namespace from numpy and matplotlib\n"
     ]
    },
    {
     "name": "stderr",
     "output_type": "stream",
     "text": [
      "Using Anaconda Cloud api site https://api.anaconda.org\n"
     ]
    },
    {
     "name": "stdout",
     "output_type": "stream",
     "text": [
      "New HTMD version (1.0.23) is available. You are currently on (1.0.16). Use 'conda update htmd' to update to the new version.\n"
     ]
    }
   ],
   "source": [
    "%pylab inline\n",
    "from htmd import *"
   ]
  },
  {
   "cell_type": "code",
   "execution_count": 2,
   "metadata": {
    "collapsed": false
   },
   "outputs": [],
   "source": [
    "mol = Molecule(\"pub.htmd.org/CXCL12-confAnalysis/1x14/structure.pdb\")"
   ]
  },
  {
   "cell_type": "code",
   "execution_count": 35,
   "metadata": {
    "collapsed": true
   },
   "outputs": [],
   "source": [
    "molare = Molecule(\"pub.htmd.org/CXCL12-confAnalysis/1x14/structure.pdb\")"
   ]
  },
  {
   "cell_type": "code",
   "execution_count": 3,
   "metadata": {
    "collapsed": true
   },
   "outputs": [],
   "source": [
    "mol.read('pub.htmd.org/CXCL12-confAnalysis/1x14/traj.xtc')"
   ]
  },
  {
   "cell_type": "code",
   "execution_count": 4,
   "metadata": {
    "collapsed": true
   },
   "outputs": [],
   "source": [
    "mol.wrap('protein')"
   ]
  },
  {
   "cell_type": "code",
   "execution_count": 5,
   "metadata": {
    "collapsed": false
   },
   "outputs": [],
   "source": [
    "mol.align('protein')\n"
   ]
  },
  {
   "cell_type": "code",
   "execution_count": 6,
   "metadata": {
    "collapsed": false,
    "scrolled": true
   },
   "outputs": [
    {
     "data": {
      "text/plain": [
       "56.227686833697874"
      ]
     },
     "execution_count": 6,
     "metadata": {},
     "output_type": "execute_result"
    }
   ],
   "source": [
    "from htmd.molecule.util import maxDistance\n",
    "D = maxDistance(mol, 'all')\n",
    "maxdistance = D*1.1\n",
    "maxdistance\n"
   ]
  },
  {
   "cell_type": "code",
   "execution_count": 7,
   "metadata": {
    "collapsed": false
   },
   "outputs": [],
   "source": [
    "mol.filter('name OH2 and x^2+y^2+z^2<'+str(round(maxdistance)**2))"
   ]
  },
  {
   "cell_type": "code",
   "execution_count": 8,
   "metadata": {
    "collapsed": false
   },
   "outputs": [
    {
     "data": {
      "text/plain": [
       "(7066, 3, 2000)"
      ]
     },
     "execution_count": 8,
     "metadata": {},
     "output_type": "execute_result"
    }
   ],
   "source": [
    "mol.coords.shape"
   ]
  },
  {
   "cell_type": "code",
   "execution_count": 39,
   "metadata": {
    "collapsed": false
   },
   "outputs": [],
   "source": [
    "mol.moveBy([maxdistance, maxdistance, maxdistance])\n",
    "molare.moveBy([maxdistance, maxdistance, maxdistance])\n"
   ]
  },
  {
   "cell_type": "code",
   "execution_count": 10,
   "metadata": {
    "collapsed": false
   },
   "outputs": [
    {
     "name": "stdout",
     "output_type": "stream",
     "text": [
      "[ 108.59597015  108.58717346  315.99526978] (3,)\n"
     ]
    }
   ],
   "source": [
    "heymax=np.max(mol.coords,axis=0)\n",
    "homax = np.max(heymax,axis=1)\n",
    "print(homax,homax.shape)"
   ]
  },
  {
   "cell_type": "code",
   "execution_count": 11,
   "metadata": {
    "collapsed": false
   },
   "outputs": [
    {
     "name": "stdout",
     "output_type": "stream",
     "text": [
      "[-212.74359131  -79.66153717    3.40529919] (3,)\n"
     ]
    }
   ],
   "source": [
    "heymin=np.min(mol.coords,axis=0)\n",
    "homin = np.min(heymin,axis=1)\n",
    "print(homin,homin.shape)"
   ]
  },
  {
   "cell_type": "markdown",
   "metadata": {},
   "source": [
    "It seems the filtering does not work as intended, as the extreme points are not excluded"
   ]
  },
  {
   "cell_type": "code",
   "execution_count": 12,
   "metadata": {
    "collapsed": false
   },
   "outputs": [
    {
     "data": {
      "text/plain": [
       "array([ 353.,  207.,  344.], dtype=float32)"
      ]
     },
     "execution_count": 12,
     "metadata": {},
     "output_type": "execute_result"
    }
   ],
   "source": [
    "np.round((homax-homin)*1.1)"
   ]
  },
  {
   "cell_type": "code",
   "execution_count": 13,
   "metadata": {
    "collapsed": false
   },
   "outputs": [],
   "source": [
    "cubedistance=int(round(maxdistance*2))"
   ]
  },
  {
   "cell_type": "code",
   "execution_count": 14,
   "metadata": {
    "collapsed": false
   },
   "outputs": [
    {
     "data": {
      "text/plain": [
       "(112, 112, 112)"
      ]
     },
     "execution_count": 14,
     "metadata": {},
     "output_type": "execute_result"
    }
   ],
   "source": [
    "grid = np.zeros([cubedistance,cubedistance,cubedistance])\n",
    "grid.shape"
   ]
  },
  {
   "cell_type": "markdown",
   "metadata": {},
   "source": [
    "Okay, so iterate for every atom, and round the coordinates to use them to sum +1 in the zero array, and then divide by the total of atoms of Oxigen, and then transform to energies. You can use the maxdistance to create the cube and so on. "
   ]
  },
  {
   "cell_type": "code",
   "execution_count": 15,
   "metadata": {
    "collapsed": false
   },
   "outputs": [
    {
     "name": "stdout",
     "output_type": "stream",
     "text": [
      "-212.744 -79.6615 315.995\n",
      "-212.744 -79.6615 315.995\n",
      "Done!\n"
     ]
    }
   ],
   "source": [
    "import itertools\n",
    "\n",
    "for atom, frame in itertools.product(*map(range, (mol.coords.shape[0], mol.coords.shape[2]))):\n",
    "    coord_list = [mol.coords[atom][0][frame], mol.coords[atom][1][frame], mol.coords[atom][2][frame]]\n",
    "    if max(coord_list) > 112:\n",
    "        print(coord_list[0],coord_list[1], coord_list[2])\n",
    "    if min(coord_list) < 0:\n",
    "        print(coord_list[0],coord_list[1], coord_list[2])\n",
    "    else:\n",
    "        continue\n",
    "print(\"Done!\")\n",
    "\n"
   ]
  },
  {
   "cell_type": "code",
   "execution_count": 15,
   "metadata": {
    "collapsed": false
   },
   "outputs": [
    {
     "name": "stdout",
     "output_type": "stream",
     "text": [
      "Done!\n"
     ]
    }
   ],
   "source": [
    "import itertools\n",
    "\n",
    "for atom, frame in itertools.product(*map(range, (mol.coords.shape[0], mol.coords.shape[2]))):\n",
    "    coord_list = [mol.coords[atom][0][frame], mol.coords[atom][1][frame], mol.coords[atom][2][frame]]\n",
    "    if max(coord_list) > 112:\n",
    "        continue\n",
    "    if min(coord_list) < 0:\n",
    "        continue\n",
    "    else:\n",
    "        grid[int(round(coord_list[0]))][int(round(coord_list[1]))][int(round(coord_list[2]))] += 1\n",
    "print(\"Done!\")"
   ]
  },
  {
   "cell_type": "code",
   "execution_count": 16,
   "metadata": {
    "collapsed": false
   },
   "outputs": [
    {
     "data": {
      "text/plain": [
       "0.010897254457967733"
      ]
     },
     "execution_count": 16,
     "metadata": {},
     "output_type": "execute_result"
    }
   ],
   "source": [
    "grid[75][62][62]/7066"
   ]
  },
  {
   "cell_type": "code",
   "execution_count": 28,
   "metadata": {
    "collapsed": false
   },
   "outputs": [
    {
     "data": {
      "text/plain": [
       "(112, 112, 112)"
      ]
     },
     "execution_count": 28,
     "metadata": {},
     "output_type": "execute_result"
    }
   ],
   "source": [
    "grid_div = grid/7066\n",
    "grid_div.shape"
   ]
  },
  {
   "cell_type": "markdown",
   "metadata": {
    "collapsed": true
   },
   "source": [
    "In order to calculate the free energy, i'll use the Boltzman constant with kcal/mol/K as units."
   ]
  },
  {
   "cell_type": "code",
   "execution_count": 29,
   "metadata": {
    "collapsed": false
   },
   "outputs": [
    {
     "data": {
      "text/plain": [
       "2.6762193395389895"
      ]
     },
     "execution_count": 29,
     "metadata": {},
     "output_type": "execute_result"
    }
   ],
   "source": [
    "for x,y,z in itertools.product(*map(range, (grid_div.shape[0], grid_div.shape[1],grid_div.shape[2]))):\n",
    "    prob = grid_div[x][y][z]\n",
    "    if prob == 0:\n",
    "        continue\n",
    "    else:\n",
    "        grid_div[x][y][z] = (np.log(grid_div[x][y][z])) * 0.001987191 * 298 * -1 \n",
    "        \n",
    "grid_div[75][62][62]\n",
    "\n",
    "\n"
   ]
  },
  {
   "cell_type": "code",
   "execution_count": 19,
   "metadata": {
    "collapsed": true
   },
   "outputs": [],
   "source": [
    "for x,y,z in itertools.product(*map(range, (grid_div.shape[0], grid_div.shape[1],grid_div.shape[2]))):\n",
    "    prob = grid_div[x][y][z]\n",
    "    if isinstance(prob,str):\n",
    "        print(\"ERROR\")\n",
    "    else:\n",
    "        continue"
   ]
  },
  {
   "cell_type": "code",
   "execution_count": 32,
   "metadata": {
    "collapsed": false
   },
   "outputs": [],
   "source": [
    "from htmd.molecule.util import writeVoxels\n",
    "min_vec= np.array([0,0,0])\n",
    "max_vec=np.array([112,112,112])\n",
    "res_vec=np.array([1,1,1])\n",
    "writeVoxels(grid_div,'isosurf.cube', min_vec, max_vec, res_vec )"
   ]
  }
 ],
 "metadata": {
  "kernelspec": {
   "display_name": "Python 3",
   "language": "python",
   "name": "python3"
  },
  "language_info": {
   "codemirror_mode": {
    "name": "ipython",
    "version": 3
   },
   "file_extension": ".py",
   "mimetype": "text/x-python",
   "name": "python",
   "nbconvert_exporter": "python",
   "pygments_lexer": "ipython3",
   "version": "3.5.1"
  }
 },
 "nbformat": 4,
 "nbformat_minor": 0
}
